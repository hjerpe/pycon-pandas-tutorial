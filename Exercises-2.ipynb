{
 "cells": [
  {
   "cell_type": "code",
   "execution_count": 228,
   "metadata": {
    "collapsed": false
   },
   "outputs": [],
   "source": [
    "%matplotlib inline\n",
    "import pandas as pd\n",
    "import matplotlib.pyplot as plt"
   ]
  },
  {
   "cell_type": "code",
   "execution_count": 2,
   "metadata": {
    "collapsed": false
   },
   "outputs": [
    {
     "data": {
      "text/html": [
       "<style>body {\n",
       "    margin: 0;\n",
       "    font-family: Helvetica;\n",
       "}\n",
       "table.dataframe {\n",
       "    border-collapse: collapse;\n",
       "    border: none;\n",
       "}\n",
       "table.dataframe tr {\n",
       "    border: none;\n",
       "}\n",
       "table.dataframe td, table.dataframe th {\n",
       "    margin: 0;\n",
       "    border: 1px solid white;\n",
       "    padding-left: 0.25em;\n",
       "    padding-right: 0.25em;\n",
       "}\n",
       "table.dataframe th:not(:empty) {\n",
       "    background-color: #fec;\n",
       "    text-align: left;\n",
       "    font-weight: normal;\n",
       "}\n",
       "table.dataframe tr:nth-child(2) th:empty {\n",
       "    border-left: none;\n",
       "    border-right: 1px dashed #888;\n",
       "}\n",
       "table.dataframe td {\n",
       "    border: 2px solid #ccf;\n",
       "    background-color: #f4f4ff;\n",
       "}\n",
       "h3 {\n",
       "    color: white;\n",
       "    background-color: black;\n",
       "    padding: 0.5em;\n",
       "}\n",
       "</style>"
      ],
      "text/plain": [
       "<IPython.core.display.HTML object>"
      ]
     },
     "execution_count": 2,
     "metadata": {},
     "output_type": "execute_result"
    }
   ],
   "source": [
    "from IPython.core.display import HTML\n",
    "css = open('style-table.css').read() + open('style-notebook.css').read()\n",
    "HTML('<style>{}</style>'.format(css))"
   ]
  },
  {
   "cell_type": "code",
   "execution_count": 3,
   "metadata": {
    "collapsed": false
   },
   "outputs": [
    {
     "data": {
      "text/html": [
       "<div style=\"max-height:1000px;max-width:1500px;overflow:auto;\">\n",
       "<table border=\"1\" class=\"dataframe\">\n",
       "  <thead>\n",
       "    <tr style=\"text-align: right;\">\n",
       "      <th></th>\n",
       "      <th>title</th>\n",
       "      <th>year</th>\n",
       "    </tr>\n",
       "  </thead>\n",
       "  <tbody>\n",
       "    <tr>\n",
       "      <th>0</th>\n",
       "      <td>          The Rising Son</td>\n",
       "      <td> 1990</td>\n",
       "    </tr>\n",
       "    <tr>\n",
       "      <th>1</th>\n",
       "      <td> The Thousand Plane Raid</td>\n",
       "      <td> 1969</td>\n",
       "    </tr>\n",
       "    <tr>\n",
       "      <th>2</th>\n",
       "      <td>        Crucea de piatra</td>\n",
       "      <td> 1993</td>\n",
       "    </tr>\n",
       "    <tr>\n",
       "      <th>3</th>\n",
       "      <td>                 Country</td>\n",
       "      <td> 2000</td>\n",
       "    </tr>\n",
       "    <tr>\n",
       "      <th>4</th>\n",
       "      <td>              Gaiking II</td>\n",
       "      <td> 2011</td>\n",
       "    </tr>\n",
       "  </tbody>\n",
       "</table>\n",
       "</div>"
      ],
      "text/plain": [
       "                     title  year\n",
       "0           The Rising Son  1990\n",
       "1  The Thousand Plane Raid  1969\n",
       "2         Crucea de piatra  1993\n",
       "3                  Country  2000\n",
       "4               Gaiking II  2011"
      ]
     },
     "execution_count": 3,
     "metadata": {},
     "output_type": "execute_result"
    }
   ],
   "source": [
    "titles = pd.DataFrame.from_csv('data/titles.csv', index_col=None)\n",
    "titles.head()"
   ]
  },
  {
   "cell_type": "code",
   "execution_count": 4,
   "metadata": {
    "collapsed": false
   },
   "outputs": [
    {
     "data": {
      "text/html": [
       "<div style=\"max-height:1000px;max-width:1500px;overflow:auto;\">\n",
       "<table border=\"1\" class=\"dataframe\">\n",
       "  <thead>\n",
       "    <tr style=\"text-align: right;\">\n",
       "      <th></th>\n",
       "      <th>title</th>\n",
       "      <th>year</th>\n",
       "      <th>name</th>\n",
       "      <th>type</th>\n",
       "      <th>character</th>\n",
       "      <th>n</th>\n",
       "    </tr>\n",
       "  </thead>\n",
       "  <tbody>\n",
       "    <tr>\n",
       "      <th>0</th>\n",
       "      <td>                   Suuri illusioni</td>\n",
       "      <td> 1985</td>\n",
       "      <td>    Homo $</td>\n",
       "      <td> actor</td>\n",
       "      <td>  Guests</td>\n",
       "      <td> 22</td>\n",
       "    </tr>\n",
       "    <tr>\n",
       "      <th>1</th>\n",
       "      <td>    Gangsta Rap: The Glockumentary</td>\n",
       "      <td> 2007</td>\n",
       "      <td> Too $hort</td>\n",
       "      <td> actor</td>\n",
       "      <td> Himself</td>\n",
       "      <td>NaN</td>\n",
       "    </tr>\n",
       "    <tr>\n",
       "      <th>2</th>\n",
       "      <td>                 Menace II Society</td>\n",
       "      <td> 1993</td>\n",
       "      <td> Too $hort</td>\n",
       "      <td> actor</td>\n",
       "      <td> Lew-Loc</td>\n",
       "      <td> 27</td>\n",
       "    </tr>\n",
       "    <tr>\n",
       "      <th>3</th>\n",
       "      <td> Porndogs: The Adventures of Sadie</td>\n",
       "      <td> 2009</td>\n",
       "      <td> Too $hort</td>\n",
       "      <td> actor</td>\n",
       "      <td>   Bosco</td>\n",
       "      <td>  3</td>\n",
       "    </tr>\n",
       "    <tr>\n",
       "      <th>4</th>\n",
       "      <td>                Stop Pepper Palmer</td>\n",
       "      <td> 2014</td>\n",
       "      <td> Too $hort</td>\n",
       "      <td> actor</td>\n",
       "      <td> Himself</td>\n",
       "      <td>NaN</td>\n",
       "    </tr>\n",
       "  </tbody>\n",
       "</table>\n",
       "</div>"
      ],
      "text/plain": [
       "                               title  year       name   type character   n\n",
       "0                    Suuri illusioni  1985     Homo $  actor    Guests  22\n",
       "1     Gangsta Rap: The Glockumentary  2007  Too $hort  actor   Himself NaN\n",
       "2                  Menace II Society  1993  Too $hort  actor   Lew-Loc  27\n",
       "3  Porndogs: The Adventures of Sadie  2009  Too $hort  actor     Bosco   3\n",
       "4                 Stop Pepper Palmer  2014  Too $hort  actor   Himself NaN"
      ]
     },
     "execution_count": 4,
     "metadata": {},
     "output_type": "execute_result"
    }
   ],
   "source": [
    "cast = pd.DataFrame.from_csv('data/cast.csv', index_col=None)\n",
    "cast.head()"
   ]
  },
  {
   "cell_type": "markdown",
   "metadata": {
    "collapsed": true
   },
   "source": [
    "### What are the ten most common movie names of all time?"
   ]
  },
  {
   "cell_type": "code",
   "execution_count": 19,
   "metadata": {
    "collapsed": false,
    "scrolled": true
   },
   "outputs": [
    {
     "data": {
      "text/plain": [
       "Hamlet                  17\n",
       "Macbeth                 15\n",
       "Carmen                  12\n",
       "The Outsider            11\n",
       "Maya                    11\n",
       "Anna Karenina           10\n",
       "Temptation              10\n",
       "Othello                 10\n",
       "She                     10\n",
       "Paradise                 9\n",
       "The Three Musketeers     9\n",
       "Rage                     9\n",
       "Underground              9\n",
       "Vengeance                9\n",
       "Blood Money              9\n",
       "...\n",
       "Roman Buildings                                     1\n",
       "Zerkalo dlya geroya                                 1\n",
       "Man-Eater                                           1\n",
       "The Hunger Games: Mockingjay - Part 2               1\n",
       "WinneToons - Die Legende vom Schatz im Silbersee    1\n",
       "Chepachet                                           1\n",
       "No More Monkeys Jumpin' on the Bed                  1\n",
       "Good Night, Vienna                                  1\n",
       "Foxy Lady                                           1\n",
       "Uyirvarai Iniththaai                                1\n",
       "Galegale Nigahle                                    1\n",
       "Banter                                              1\n",
       "Ang leon at ang daga                                1\n",
       "Der Stern von Afrika                                1\n",
       "Uskyld                                              1\n",
       "Length: 165474, dtype: int64"
      ]
     },
     "execution_count": 19,
     "metadata": {},
     "output_type": "execute_result"
    }
   ],
   "source": [
    "#cast.title.value_counts()[0:10]\n",
    "df = cast[['year', 'title']].drop_duplicates()\n",
    "df.title.value_counts()"
   ]
  },
  {
   "cell_type": "markdown",
   "metadata": {
    "collapsed": true
   },
   "source": [
    "### Which three years of the 1930s saw the most films released?"
   ]
  },
  {
   "cell_type": "code",
   "execution_count": 32,
   "metadata": {
    "collapsed": false,
    "scrolled": true
   },
   "outputs": [
    {
     "data": {
      "text/plain": [
       "1937    27206\n",
       "1936    25603\n",
       "1938    25020\n",
       "1939    24273\n",
       "1935    23762\n",
       "1934    20464\n",
       "1933    15253\n",
       "1932    14606\n",
       "1931    11643\n",
       "1930     9674\n",
       "dtype: int64"
      ]
     },
     "execution_count": 32,
     "metadata": {},
     "output_type": "execute_result"
    }
   ],
   "source": [
    "df = cast.copy()\n",
    "df.year = df.year // 10\n",
    "df.head()\n",
    "\n",
    "cast[cast.year // 10 == 193].year.value_counts()\n",
    "#(cast[cast.year // 10 == 193].year == 1937).sum()"
   ]
  },
  {
   "cell_type": "markdown",
   "metadata": {
    "collapsed": true
   },
   "source": [
    "### Plot the number of films that have been released each decade over the history of cinema."
   ]
  },
  {
   "cell_type": "code",
   "execution_count": 172,
   "metadata": {
    "collapsed": false
   },
   "outputs": [
    {
     "data": {
      "text/plain": [
       "<matplotlib.axes._subplots.AxesSubplot at 0x7f997f78eb50>"
      ]
     },
     "execution_count": 172,
     "metadata": {},
     "output_type": "execute_result"
    },
    {
     "data": {
      "image/png": "[encoded data removed]",
      "text/plain": [
       "<matplotlib.figure.Figure at 0x7f997f78e650>"
      ]
     },
     "metadata": {},
     "output_type": "display_data"
    }
   ],
   "source": [
    "df = cast.copy()\n",
    "df['decade'] = (cast.year // 10)*10\n",
    "df = df.drop_duplicates(subset=['year', 'title'])\n",
    "counts = df.decade.value_counts()\n",
    "counts.sort_index().plot(style='.', rot=90)"
   ]
  },
  {
   "cell_type": "markdown",
   "metadata": {
    "collapsed": true
   },
   "source": [
    "### Plot the number of \"Hamlet\" films made each decade."
   ]
  },
  {
   "cell_type": "code",
   "execution_count": 173,
   "metadata": {
    "collapsed": false
   },
   "outputs": [
    {
     "data": {
      "text/plain": [
       "<matplotlib.axes._subplots.AxesSubplot at 0x7f9924c79fd0>"
      ]
     },
     "execution_count": 173,
     "metadata": {},
     "output_type": "execute_result"
    },
    {
     "data": {
      "image/png": "[encoded data removed]",
      "text/plain": [
       "<matplotlib.figure.Figure at 0x7f997f745850>"
      ]
     },
     "metadata": {},
     "output_type": "display_data"
    }
   ],
   "source": [
    "counts = df[df.title == 'Hamlet']\n",
    "counts.decade.value_counts().sort_index().plot(\n",
    "    rot=90, style='.')"
   ]
  },
  {
   "cell_type": "markdown",
   "metadata": {
    "collapsed": true
   },
   "source": [
    "Relative movie contribution by Hamlet over decades"
   ]
  },
  {
   "cell_type": "code",
   "execution_count": 174,
   "metadata": {
    "collapsed": false
   },
   "outputs": [
    {
     "data": {
      "text/plain": [
       "<matplotlib.axes._subplots.AxesSubplot at 0x7f99218b5ad0>"
      ]
     },
     "execution_count": 174,
     "metadata": {},
     "output_type": "execute_result"
    },
    {
     "data": {
      "image/png": "[encoded data removed]",
      "text/plain": [
       "<matplotlib.figure.Figure at 0x7f99218ac710>"
      ]
     },
     "metadata": {},
     "output_type": "display_data"
    }
   ],
   "source": [
    "df_sub = df[df.title == 'Hamlet']\n",
    "hamlet_counts = df_sub.decade.value_counts().sort_index()\n",
    "counts = df.decade.value_counts().sort_index()\n",
    "\n",
    "hamlet_counts.div(counts, fill_value=0).plot(style='.')"
   ]
  },
  {
   "cell_type": "markdown",
   "metadata": {
    "collapsed": true
   },
   "source": [
    "### Plot the number of \"Rustler\" characters in each decade of the history of film."
   ]
  },
  {
   "cell_type": "code",
   "execution_count": 183,
   "metadata": {
    "collapsed": false
   },
   "outputs": [
    {
     "data": {
      "text/plain": [
       "<matplotlib.axes._subplots.AxesSubplot at 0x7f9964c06d90>"
      ]
     },
     "execution_count": 183,
     "metadata": {},
     "output_type": "execute_result"
    },
    {
     "data": {
      "image/png": "[encoded data removed]",
      "text/plain": [
       "<matplotlib.figure.Figure at 0x7f9964bfa2d0>"
      ]
     },
     "metadata": {},
     "output_type": "display_data"
    }
   ],
   "source": [
    "groups = df[df.character == 'Rustler'].groupby('decade')\n",
    "groups.size().sort_index().plot(style='*', \n",
    "                                ylim=[0, 5],\n",
    "                                xlim=[1910, 1960])"
   ]
  },
  {
   "cell_type": "markdown",
   "metadata": {
    "collapsed": true
   },
   "source": [
    "### Plot the number of \"Hamlet\" characters each decade."
   ]
  },
  {
   "cell_type": "code",
   "execution_count": 191,
   "metadata": {
    "collapsed": false
   },
   "outputs": [
    {
     "data": {
      "image/png": "[encoded data removed]",
      "text/plain": [
       "<matplotlib.figure.Figure at 0x7f9964546810>"
      ]
     },
     "metadata": {},
     "output_type": "display_data"
    }
   ],
   "source": [
    "groups = df[df.character == 'Hamlet'].\\\n",
    "    groupby('decade').size().plot(style='*',\n",
    "                                 xlim=1910,\n",
    "                                 ylim=[0,4])"
   ]
  },
  {
   "cell_type": "markdown",
   "metadata": {
    "collapsed": true
   },
   "source": [
    "### What are the 11 most common character names in movie history?"
   ]
  },
  {
   "cell_type": "code",
   "execution_count": 156,
   "metadata": {
    "collapsed": false
   },
   "outputs": [
    {
     "data": {
      "text/plain": [
       "character\n",
       "Himself      1887\n",
       "Doctor        517\n",
       "Narrator      359\n",
       "Policeman     337\n",
       "John          298\n",
       "David         297\n",
       "Paul          278\n",
       "Bartender     275\n",
       "Jack          251\n",
       "Father        244\n",
       "Waiter        242\n",
       "dtype: int64"
      ]
     },
     "execution_count": 156,
     "metadata": {},
     "output_type": "execute_result"
    }
   ],
   "source": [
    "groups = df.groupby('character')\n",
    "groups.size().order(ascending=False)[:11]"
   ]
  },
  {
   "cell_type": "markdown",
   "metadata": {
    "collapsed": true
   },
   "source": [
    "### Who are the 10 people most often credited as \"Herself\" in film history?"
   ]
  },
  {
   "cell_type": "code",
   "execution_count": 163,
   "metadata": {
    "collapsed": false
   },
   "outputs": [
    {
     "data": {
      "text/plain": [
       "name\n",
       "Alicia Dattner     3\n",
       "Miyuki Nakajima    2\n",
       "Sara Hedgren       2\n",
       "Ayumi Hamasaki     2\n",
       "Yuki Sait?         1\n",
       "Elsie Shelove      1\n",
       "Desire Dubounet    1\n",
       "Diana Barrows      1\n",
       "Diane Pernet       1\n",
       "Distancia          1\n",
       "dtype: int64"
      ]
     },
     "execution_count": 163,
     "metadata": {},
     "output_type": "execute_result"
    }
   ],
   "source": [
    "groups = df.groupby('character')\n",
    "groups.get_group('Herself').groupby('name').size().order(ascending=False)[:10]"
   ]
  },
  {
   "cell_type": "markdown",
   "metadata": {
    "collapsed": true
   },
   "source": [
    "### Who are the 10 people most often credited as \"Himself\" in film history?"
   ]
  },
  {
   "cell_type": "code",
   "execution_count": 164,
   "metadata": {
    "collapsed": false
   },
   "outputs": [
    {
     "data": {
      "text/plain": [
       "name\n",
       "Bill Corbett           11\n",
       "Muhammad Ali            8\n",
       "Steve Allen             8\n",
       "Trace Beaulieu          7\n",
       "Amitabh Bachchan        6\n",
       "Henry Sapungan          5\n",
       "Kareem Abdul-Jabbar     5\n",
       "Tony Bennett            4\n",
       "Max Baer                4\n",
       "Peter Bogdanovich       4\n",
       "dtype: int64"
      ]
     },
     "execution_count": 164,
     "metadata": {},
     "output_type": "execute_result"
    }
   ],
   "source": [
    "groups = df.groupby('character')\n",
    "groups.get_group('Himself').groupby('name').size().order(ascending=False)[:10]"
   ]
  },
  {
   "cell_type": "markdown",
   "metadata": {
    "collapsed": true
   },
   "source": [
    "### Which actors or actresses appeared in the most movies in the year 1945?"
   ]
  },
  {
   "cell_type": "code",
   "execution_count": 250,
   "metadata": {
    "collapsed": false
   },
   "outputs": [
    {
     "data": {
      "text/plain": [
       "name\n",
       "Eddie Acuff          19\n",
       "Ernie Adams          15\n",
       "Fred Aldrich         10\n",
       "Roy Barcroft          9\n",
       "Sam Ash               8\n",
       "Charles Arnt          8\n",
       "Jimmy Aubrey          8\n",
       "John Abbott           7\n",
       "Richard Alexander     7\n",
       "Joss Ambler           6\n",
       "Hank Bell             6\n",
       "Philip Ahn            6\n",
       "dtype: int64"
      ]
     },
     "execution_count": 250,
     "metadata": {},
     "output_type": "execute_result"
    }
   ],
   "source": [
    "df[df.year == 1945].groupby('name').size().\\\n",
    "    order(ascending=False)[:12]"
   ]
  },
  {
   "cell_type": "markdown",
   "metadata": {
    "collapsed": true
   },
   "source": [
    "### Which actors or actresses appeared in the most movies in the year 1985?"
   ]
  },
  {
   "cell_type": "code",
   "execution_count": 249,
   "metadata": {
    "collapsed": false
   },
   "outputs": [
    {
     "name": "stdout",
     "output_type": "stream",
     "text": [
      "name\n",
      "Asrani         9\n",
      "Lalu Alex      9\n",
      "Vikas Anand    6\n",
      "Bahadur        6\n",
      "Chiranjeevi    5\n",
      "dtype: int64\n",
      "name\n",
      "Liliya Gurova        2\n",
      "Zhanna Kuanysheva    1\n",
      "Kurara               1\n",
      "Kitty Chan           1\n",
      "Kaori (II) Aso       1\n",
      "dtype: int64\n"
     ]
    }
   ],
   "source": [
    "counts = df[df.year == 1985].groupby('type')\n",
    "c1 = counts.get_group('actor').groupby('name').size().\\\n",
    "    order(ascending=False)[:15]\n",
    "    \n",
    "c2 = counts.get_group('actress').groupby('name').size().\\\n",
    "    order(ascending=False)[:15]\n",
    "\n",
    "print(c1.head())\n",
    "print(c2.head())"
   ]
  },
  {
   "cell_type": "markdown",
   "metadata": {
    "collapsed": true
   },
   "source": [
    "### Plot how many roles Mammootty has played in each year of his career."
   ]
  },
  {
   "cell_type": "code",
   "execution_count": null,
   "metadata": {
    "collapsed": true
   },
   "outputs": [],
   "source": []
  },
  {
   "cell_type": "markdown",
   "metadata": {
    "collapsed": true
   },
   "source": [
    "### What are the 10 most frequent roles that start with the phrase \"Patron in\"?"
   ]
  },
  {
   "cell_type": "code",
   "execution_count": 169,
   "metadata": {
    "collapsed": false
   },
   "outputs": [
    {
     "data": {
      "text/html": [
       "<div style=\"max-height:1000px;max-width:1500px;overflow:auto;\">\n",
       "<table border=\"1\" class=\"dataframe\">\n",
       "  <thead>\n",
       "    <tr style=\"text-align: right;\">\n",
       "      <th></th>\n",
       "      <th>title</th>\n",
       "      <th>year</th>\n",
       "      <th>name</th>\n",
       "      <th>type</th>\n",
       "      <th>character</th>\n",
       "      <th>n</th>\n",
       "      <th>decade</th>\n",
       "    </tr>\n",
       "  </thead>\n",
       "  <tbody>\n",
       "    <tr>\n",
       "      <th>19529</th>\n",
       "      <td>            Let It Ride</td>\n",
       "      <td> 1989</td>\n",
       "      <td>    Ralph Ahn</td>\n",
       "      <td> actor</td>\n",
       "      <td> Patron in Chinese Restaurant</td>\n",
       "      <td> 43</td>\n",
       "      <td> 1980</td>\n",
       "    </tr>\n",
       "    <tr>\n",
       "      <th>23901</th>\n",
       "      <td>         Missing Pieces</td>\n",
       "      <td> 2012</td>\n",
       "      <td>   Rico Alago</td>\n",
       "      <td> actor</td>\n",
       "      <td>         Patron in Restaurant</td>\n",
       "      <td>NaN</td>\n",
       "      <td> 2010</td>\n",
       "    </tr>\n",
       "    <tr>\n",
       "      <th>46065</th>\n",
       "      <td> The Mothman Prophecies</td>\n",
       "      <td> 2002</td>\n",
       "      <td>    Tony Amen</td>\n",
       "      <td> actor</td>\n",
       "      <td>        Patron in Coffee Shop</td>\n",
       "      <td>NaN</td>\n",
       "      <td> 2000</td>\n",
       "    </tr>\n",
       "    <tr>\n",
       "      <th>90020</th>\n",
       "      <td>               Crashing</td>\n",
       "      <td> 2007</td>\n",
       "      <td> Robyn August</td>\n",
       "      <td> actor</td>\n",
       "      <td>   Patron in the Coffee House</td>\n",
       "      <td> 50</td>\n",
       "      <td> 2000</td>\n",
       "    </tr>\n",
       "  </tbody>\n",
       "</table>\n",
       "</div>"
      ],
      "text/plain": [
       "                        title  year          name   type  \\\n",
       "19529             Let It Ride  1989     Ralph Ahn  actor   \n",
       "23901          Missing Pieces  2012    Rico Alago  actor   \n",
       "46065  The Mothman Prophecies  2002     Tony Amen  actor   \n",
       "90020                Crashing  2007  Robyn August  actor   \n",
       "\n",
       "                          character   n  decade  \n",
       "19529  Patron in Chinese Restaurant  43    1980  \n",
       "23901          Patron in Restaurant NaN    2010  \n",
       "46065         Patron in Coffee Shop NaN    2000  \n",
       "90020    Patron in the Coffee House  50    2000  "
      ]
     },
     "execution_count": 169,
     "metadata": {},
     "output_type": "execute_result"
    }
   ],
   "source": [
    "df[df.character.str.startswith('Patron in')].groupby('name').head()"
   ]
  },
  {
   "cell_type": "markdown",
   "metadata": {
    "collapsed": true
   },
   "source": [
    "### What are the 10 most frequent roles that start with the word \"Science\"?"
   ]
  },
  {
   "cell_type": "code",
   "execution_count": 171,
   "metadata": {
    "collapsed": false
   },
   "outputs": [
    {
     "data": {
      "text/html": [
       "<div style=\"max-height:1000px;max-width:1500px;overflow:auto;\">\n",
       "<table border=\"1\" class=\"dataframe\">\n",
       "  <thead>\n",
       "    <tr style=\"text-align: right;\">\n",
       "      <th></th>\n",
       "      <th>title</th>\n",
       "      <th>year</th>\n",
       "      <th>name</th>\n",
       "      <th>type</th>\n",
       "      <th>character</th>\n",
       "      <th>n</th>\n",
       "      <th>decade</th>\n",
       "    </tr>\n",
       "  </thead>\n",
       "  <tbody>\n",
       "    <tr>\n",
       "      <th>11134 </th>\n",
       "      <td>      Teen Wolf Too</td>\n",
       "      <td> 1987</td>\n",
       "      <td> Matthew T. Adams</td>\n",
       "      <td> actor</td>\n",
       "      <td>     Science Student</td>\n",
       "      <td>NaN</td>\n",
       "      <td> 1980</td>\n",
       "    </tr>\n",
       "    <tr>\n",
       "      <th>30551 </th>\n",
       "      <td> Three O'Clock High</td>\n",
       "      <td> 1987</td>\n",
       "      <td>     Michael Alex</td>\n",
       "      <td> actor</td>\n",
       "      <td>         Science Kid</td>\n",
       "      <td> 25</td>\n",
       "      <td> 1980</td>\n",
       "    </tr>\n",
       "    <tr>\n",
       "      <th>128253</th>\n",
       "      <td>        The Giggles</td>\n",
       "      <td> 2013</td>\n",
       "      <td>  Kevin Barnstein</td>\n",
       "      <td> actor</td>\n",
       "      <td> Science Performer 3</td>\n",
       "      <td> 19</td>\n",
       "      <td> 2010</td>\n",
       "    </tr>\n",
       "    <tr>\n",
       "      <th>233909</th>\n",
       "      <td>         Homecoming</td>\n",
       "      <td> 2011</td>\n",
       "      <td>       Ryan Boyle</td>\n",
       "      <td> actor</td>\n",
       "      <td>     Science Student</td>\n",
       "      <td>NaN</td>\n",
       "      <td> 2010</td>\n",
       "    </tr>\n",
       "    <tr>\n",
       "      <th>329665</th>\n",
       "      <td>  A Wreck, a Tangle</td>\n",
       "      <td> 2000</td>\n",
       "      <td>    Peter Carroll</td>\n",
       "      <td> actor</td>\n",
       "      <td>  Science Voice Over</td>\n",
       "      <td>  6</td>\n",
       "      <td> 2000</td>\n",
       "    </tr>\n",
       "  </tbody>\n",
       "</table>\n",
       "</div>"
      ],
      "text/plain": [
       "                     title  year              name   type  \\\n",
       "11134        Teen Wolf Too  1987  Matthew T. Adams  actor   \n",
       "30551   Three O'Clock High  1987      Michael Alex  actor   \n",
       "128253         The Giggles  2013   Kevin Barnstein  actor   \n",
       "233909          Homecoming  2011        Ryan Boyle  actor   \n",
       "329665   A Wreck, a Tangle  2000     Peter Carroll  actor   \n",
       "\n",
       "                  character   n  decade  \n",
       "11134       Science Student NaN    1980  \n",
       "30551           Science Kid  25    1980  \n",
       "128253  Science Performer 3  19    2010  \n",
       "233909      Science Student NaN    2010  \n",
       "329665   Science Voice Over   6    2000  "
      ]
     },
     "execution_count": 171,
     "metadata": {},
     "output_type": "execute_result"
    }
   ],
   "source": [
    "df[df.character.str.startswith('Science')].groupby('name').head(100)"
   ]
  },
  {
   "cell_type": "markdown",
   "metadata": {},
   "source": [
    "Most problems below are quite similar"
   ]
  },
  {
   "cell_type": "markdown",
   "metadata": {
    "collapsed": true
   },
   "source": [
    "### Plot the n-values of the roles that Judi Dench has played over her career."
   ]
  },
  {
   "cell_type": "code",
   "execution_count": null,
   "metadata": {
    "collapsed": true
   },
   "outputs": [],
   "source": []
  },
  {
   "cell_type": "markdown",
   "metadata": {
    "collapsed": true
   },
   "source": [
    "### Plot the n-values of Cary Grant's roles through his career."
   ]
  },
  {
   "cell_type": "code",
   "execution_count": null,
   "metadata": {
    "collapsed": true
   },
   "outputs": [],
   "source": []
  },
  {
   "cell_type": "markdown",
   "metadata": {
    "collapsed": true
   },
   "source": [
    "### Plot the n-value of the roles that Sidney Poitier has acted over the years."
   ]
  },
  {
   "cell_type": "code",
   "execution_count": null,
   "metadata": {
    "collapsed": true
   },
   "outputs": [],
   "source": []
  },
  {
   "cell_type": "markdown",
   "metadata": {
    "collapsed": true
   },
   "source": [
    "### How many leading (n=1) roles were available to actors, and how many to actresses, in the 1950s?"
   ]
  },
  {
   "cell_type": "code",
   "execution_count": null,
   "metadata": {
    "collapsed": true
   },
   "outputs": [],
   "source": []
  },
  {
   "cell_type": "markdown",
   "metadata": {
    "collapsed": true
   },
   "source": [
    "### How many supporting (n=2) roles were available to actors, and how many to actresses, in the 1950s?"
   ]
  },
  {
   "cell_type": "code",
   "execution_count": null,
   "metadata": {
    "collapsed": true
   },
   "outputs": [],
   "source": []
  }
 ],
 "metadata": {
  "kernelspec": {
   "display_name": "Python 2",
   "language": "python",
   "name": "python2"
  },
  "language_info": {
   "codemirror_mode": {
    "name": "ipython",
    "version": 2
   },
   "file_extension": ".py",
   "mimetype": "text/x-python",
   "name": "python",
   "nbconvert_exporter": "python",
   "pygments_lexer": "ipython2",
   "version": "2.7.10"
  }
 },
 "nbformat": 4,
 "nbformat_minor": 0
}
