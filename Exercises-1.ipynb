{
 "cells": [
  {
   "cell_type": "code",
   "execution_count": 2,
   "metadata": {
    "collapsed": false
   },
   "outputs": [],
   "source": [
    "%matplotlib inline\n",
    "import pandas as pd"
   ]
  },
  {
   "cell_type": "code",
   "execution_count": 3,
   "metadata": {
    "collapsed": false
   },
   "outputs": [
    {
     "data": {
      "text/html": [
       "<style>body {\n",
       "    margin: 0;\n",
       "    font-family: Helvetica;\n",
       "}\n",
       "table.dataframe {\n",
       "    border-collapse: collapse;\n",
       "    border: none;\n",
       "}\n",
       "table.dataframe tr {\n",
       "    border: none;\n",
       "}\n",
       "table.dataframe td, table.dataframe th {\n",
       "    margin: 0;\n",
       "    border: 1px solid white;\n",
       "    padding-left: 0.25em;\n",
       "    padding-right: 0.25em;\n",
       "}\n",
       "table.dataframe th:not(:empty) {\n",
       "    background-color: #fec;\n",
       "    text-align: left;\n",
       "    font-weight: normal;\n",
       "}\n",
       "table.dataframe tr:nth-child(2) th:empty {\n",
       "    border-left: none;\n",
       "    border-right: 1px dashed #888;\n",
       "}\n",
       "table.dataframe td {\n",
       "    border: 2px solid #ccf;\n",
       "    background-color: #f4f4ff;\n",
       "}\n",
       "h3 {\n",
       "    color: white;\n",
       "    background-color: black;\n",
       "    padding: 0.5em;\n",
       "}\n",
       "</style>"
      ],
      "text/plain": [
       "<IPython.core.display.HTML object>"
      ]
     },
     "execution_count": 3,
     "metadata": {},
     "output_type": "execute_result"
    }
   ],
   "source": [
    "from IPython.core.display import HTML\n",
    "css = open('style-table.css').read() + open('style-notebook.css').read()\n",
    "HTML('<style>{}</style>'.format(css))"
   ]
  },
  {
   "cell_type": "code",
   "execution_count": 6,
   "metadata": {
    "collapsed": false
   },
   "outputs": [
    {
     "data": {
      "text/html": [
       "<div style=\"max-height:1000px;max-width:1500px;overflow:auto;\">\n",
       "<table border=\"1\" class=\"dataframe\">\n",
       "  <thead>\n",
       "    <tr style=\"text-align: right;\">\n",
       "      <th></th>\n",
       "      <th>title</th>\n",
       "      <th>year</th>\n",
       "    </tr>\n",
       "  </thead>\n",
       "  <tbody>\n",
       "    <tr>\n",
       "      <th>0</th>\n",
       "      <td>          The Rising Son</td>\n",
       "      <td> 1990</td>\n",
       "    </tr>\n",
       "    <tr>\n",
       "      <th>1</th>\n",
       "      <td> The Thousand Plane Raid</td>\n",
       "      <td> 1969</td>\n",
       "    </tr>\n",
       "    <tr>\n",
       "      <th>2</th>\n",
       "      <td>        Crucea de piatra</td>\n",
       "      <td> 1993</td>\n",
       "    </tr>\n",
       "    <tr>\n",
       "      <th>3</th>\n",
       "      <td>                 Country</td>\n",
       "      <td> 2000</td>\n",
       "    </tr>\n",
       "    <tr>\n",
       "      <th>4</th>\n",
       "      <td>              Gaiking II</td>\n",
       "      <td> 2011</td>\n",
       "    </tr>\n",
       "  </tbody>\n",
       "</table>\n",
       "</div>"
      ],
      "text/plain": [
       "                     title  year\n",
       "0           The Rising Son  1990\n",
       "1  The Thousand Plane Raid  1969\n",
       "2         Crucea de piatra  1993\n",
       "3                  Country  2000\n",
       "4               Gaiking II  2011"
      ]
     },
     "execution_count": 6,
     "metadata": {},
     "output_type": "execute_result"
    }
   ],
   "source": [
    "titles = pd.DataFrame.from_csv('data/titles.csv', index_col=None)\n",
    "titles.head()"
   ]
  },
  {
   "cell_type": "code",
   "execution_count": 7,
   "metadata": {
    "collapsed": false
   },
   "outputs": [
    {
     "data": {
      "text/html": [
       "<div style=\"max-height:1000px;max-width:1500px;overflow:auto;\">\n",
       "<table border=\"1\" class=\"dataframe\">\n",
       "  <thead>\n",
       "    <tr style=\"text-align: right;\">\n",
       "      <th></th>\n",
       "      <th>title</th>\n",
       "      <th>year</th>\n",
       "      <th>name</th>\n",
       "      <th>type</th>\n",
       "      <th>character</th>\n",
       "      <th>n</th>\n",
       "    </tr>\n",
       "  </thead>\n",
       "  <tbody>\n",
       "    <tr>\n",
       "      <th>0</th>\n",
       "      <td>                   Suuri illusioni</td>\n",
       "      <td> 1985</td>\n",
       "      <td>    Homo $</td>\n",
       "      <td> actor</td>\n",
       "      <td>  Guests</td>\n",
       "      <td> 22</td>\n",
       "    </tr>\n",
       "    <tr>\n",
       "      <th>1</th>\n",
       "      <td>    Gangsta Rap: The Glockumentary</td>\n",
       "      <td> 2007</td>\n",
       "      <td> Too $hort</td>\n",
       "      <td> actor</td>\n",
       "      <td> Himself</td>\n",
       "      <td>NaN</td>\n",
       "    </tr>\n",
       "    <tr>\n",
       "      <th>2</th>\n",
       "      <td>                 Menace II Society</td>\n",
       "      <td> 1993</td>\n",
       "      <td> Too $hort</td>\n",
       "      <td> actor</td>\n",
       "      <td> Lew-Loc</td>\n",
       "      <td> 27</td>\n",
       "    </tr>\n",
       "    <tr>\n",
       "      <th>3</th>\n",
       "      <td> Porndogs: The Adventures of Sadie</td>\n",
       "      <td> 2009</td>\n",
       "      <td> Too $hort</td>\n",
       "      <td> actor</td>\n",
       "      <td>   Bosco</td>\n",
       "      <td>  3</td>\n",
       "    </tr>\n",
       "    <tr>\n",
       "      <th>4</th>\n",
       "      <td>                Stop Pepper Palmer</td>\n",
       "      <td> 2014</td>\n",
       "      <td> Too $hort</td>\n",
       "      <td> actor</td>\n",
       "      <td> Himself</td>\n",
       "      <td>NaN</td>\n",
       "    </tr>\n",
       "  </tbody>\n",
       "</table>\n",
       "</div>"
      ],
      "text/plain": [
       "                               title  year       name   type character   n\n",
       "0                    Suuri illusioni  1985     Homo $  actor    Guests  22\n",
       "1     Gangsta Rap: The Glockumentary  2007  Too $hort  actor   Himself NaN\n",
       "2                  Menace II Society  1993  Too $hort  actor   Lew-Loc  27\n",
       "3  Porndogs: The Adventures of Sadie  2009  Too $hort  actor     Bosco   3\n",
       "4                 Stop Pepper Palmer  2014  Too $hort  actor   Himself NaN"
      ]
     },
     "execution_count": 7,
     "metadata": {},
     "output_type": "execute_result"
    }
   ],
   "source": [
    "cast = pd.DataFrame.from_csv('data/cast.csv', index_col=None)\n",
    "cast.head()"
   ]
  },
  {
   "cell_type": "markdown",
   "metadata": {
    "collapsed": true
   },
   "source": [
    "### How many movies are listed in the titles dataframe?"
   ]
  },
  {
   "cell_type": "code",
   "execution_count": 14,
   "metadata": {
    "collapsed": false
   },
   "outputs": [
    {
     "data": {
      "text/plain": [
       "(3461466, 6)"
      ]
     },
     "execution_count": 14,
     "metadata": {},
     "output_type": "execute_result"
    }
   ],
   "source": [
    "len(cast.title)\n",
    "cast.shape"
   ]
  },
  {
   "cell_type": "code",
   "execution_count": 36,
   "metadata": {
    "collapsed": false
   },
   "outputs": [
    {
     "data": {
      "text/plain": [
       "165474"
      ]
     },
     "execution_count": 36,
     "metadata": {},
     "output_type": "execute_result"
    }
   ],
   "source": [
    "len(set(cast.title))"
   ]
  },
  {
   "cell_type": "markdown",
   "metadata": {
    "collapsed": true
   },
   "source": [
    "### What are the earliest two films listed in the titles dataframe?"
   ]
  },
  {
   "cell_type": "code",
   "execution_count": 61,
   "metadata": {
    "collapsed": false
   },
   "outputs": [
    {
     "data": {
      "text/html": [
       "<div style=\"max-height:1000px;max-width:1500px;overflow:auto;\">\n",
       "<table border=\"1\" class=\"dataframe\">\n",
       "  <thead>\n",
       "    <tr style=\"text-align: right;\">\n",
       "      <th></th>\n",
       "      <th>title</th>\n",
       "      <th>year</th>\n",
       "      <th>name</th>\n",
       "      <th>type</th>\n",
       "      <th>character</th>\n",
       "      <th>n</th>\n",
       "    </tr>\n",
       "  </thead>\n",
       "  <tbody>\n",
       "    <tr>\n",
       "      <th>446038 </th>\n",
       "      <td>            Miss Jerry</td>\n",
       "      <td> 1894</td>\n",
       "      <td> William Courtenay</td>\n",
       "      <td>   actor</td>\n",
       "      <td>                                      Mr. Hamilton</td>\n",
       "      <td>NaN</td>\n",
       "    </tr>\n",
       "    <tr>\n",
       "      <th>533639 </th>\n",
       "      <td>            Miss Jerry</td>\n",
       "      <td> 1894</td>\n",
       "      <td>    Chauncey Depew</td>\n",
       "      <td>   actor</td>\n",
       "      <td> Himself - the Director of the New York Central...</td>\n",
       "      <td>NaN</td>\n",
       "    </tr>\n",
       "    <tr>\n",
       "      <th>2413448</th>\n",
       "      <td>            Miss Jerry</td>\n",
       "      <td> 1894</td>\n",
       "      <td>   Blanche Bayliss</td>\n",
       "      <td> actress</td>\n",
       "      <td>              Miss Geraldine Holbrook (Miss Jerry)</td>\n",
       "      <td>NaN</td>\n",
       "    </tr>\n",
       "    <tr>\n",
       "      <th>1649728</th>\n",
       "      <td> Soldiers of the Cross</td>\n",
       "      <td> 1900</td>\n",
       "      <td>       Orrie Perry</td>\n",
       "      <td>   actor</td>\n",
       "      <td>                                              Lion</td>\n",
       "      <td>NaN</td>\n",
       "    </tr>\n",
       "    <tr>\n",
       "      <th>1649879</th>\n",
       "      <td> Soldiers of the Cross</td>\n",
       "      <td> 1900</td>\n",
       "      <td>         Reg Perry</td>\n",
       "      <td>   actor</td>\n",
       "      <td>                                              Lion</td>\n",
       "      <td>NaN</td>\n",
       "    </tr>\n",
       "  </tbody>\n",
       "</table>\n",
       "</div>"
      ],
      "text/plain": [
       "                         title  year               name     type  \\\n",
       "446038              Miss Jerry  1894  William Courtenay    actor   \n",
       "533639              Miss Jerry  1894     Chauncey Depew    actor   \n",
       "2413448             Miss Jerry  1894    Blanche Bayliss  actress   \n",
       "1649728  Soldiers of the Cross  1900        Orrie Perry    actor   \n",
       "1649879  Soldiers of the Cross  1900          Reg Perry    actor   \n",
       "\n",
       "                                                 character   n  \n",
       "446038                                        Mr. Hamilton NaN  \n",
       "533639   Himself - the Director of the New York Central... NaN  \n",
       "2413448               Miss Geraldine Holbrook (Miss Jerry) NaN  \n",
       "1649728                                               Lion NaN  \n",
       "1649879                                               Lion NaN  "
      ]
     },
     "execution_count": 61,
     "metadata": {},
     "output_type": "execute_result"
    }
   ],
   "source": [
    "sorted_years = sorted(list(set(cast.year)))\n",
    "sorted_years\n",
    "bols = lambda x: \\\n",
    "    x == sorted_years[0] or x == sorted_years[1]\n",
    "    \n",
    "two_smallest_year_indices = \\\n",
    "    (cast.year == sorted_years[0]) | \\\n",
    "    (cast.year == sorted_years[1])\n",
    "\n",
    "cast[two_smallest_year_indices].sort('year')"
   ]
  },
  {
   "cell_type": "code",
   "execution_count": 60,
   "metadata": {
    "collapsed": false
   },
   "outputs": [
    {
     "data": {
      "text/html": [
       "<div style=\"max-height:1000px;max-width:1500px;overflow:auto;\">\n",
       "<table border=\"1\" class=\"dataframe\">\n",
       "  <thead>\n",
       "    <tr style=\"text-align: right;\">\n",
       "      <th></th>\n",
       "      <th>title</th>\n",
       "      <th>year</th>\n",
       "      <th>name</th>\n",
       "      <th>type</th>\n",
       "      <th>character</th>\n",
       "      <th>n</th>\n",
       "    </tr>\n",
       "  </thead>\n",
       "  <tbody>\n",
       "    <tr>\n",
       "      <th>446038 </th>\n",
       "      <td>                                      Miss Jerry</td>\n",
       "      <td> 1894</td>\n",
       "      <td>    William Courtenay</td>\n",
       "      <td>   actor</td>\n",
       "      <td>                                      Mr. Hamilton</td>\n",
       "      <td>NaN</td>\n",
       "    </tr>\n",
       "    <tr>\n",
       "      <th>2413448</th>\n",
       "      <td>                                      Miss Jerry</td>\n",
       "      <td> 1894</td>\n",
       "      <td>      Blanche Bayliss</td>\n",
       "      <td> actress</td>\n",
       "      <td>              Miss Geraldine Holbrook (Miss Jerry)</td>\n",
       "      <td>NaN</td>\n",
       "    </tr>\n",
       "    <tr>\n",
       "      <th>533639 </th>\n",
       "      <td>                                      Miss Jerry</td>\n",
       "      <td> 1894</td>\n",
       "      <td>       Chauncey Depew</td>\n",
       "      <td>   actor</td>\n",
       "      <td> Himself - the Director of the New York Central...</td>\n",
       "      <td>NaN</td>\n",
       "    </tr>\n",
       "    <tr>\n",
       "      <th>1649728</th>\n",
       "      <td>                           Soldiers of the Cross</td>\n",
       "      <td> 1900</td>\n",
       "      <td>          Orrie Perry</td>\n",
       "      <td>   actor</td>\n",
       "      <td>                                              Lion</td>\n",
       "      <td>NaN</td>\n",
       "    </tr>\n",
       "    <tr>\n",
       "      <th>1649879</th>\n",
       "      <td>                           Soldiers of the Cross</td>\n",
       "      <td> 1900</td>\n",
       "      <td>            Reg Perry</td>\n",
       "      <td>   actor</td>\n",
       "      <td>                                              Lion</td>\n",
       "      <td>NaN</td>\n",
       "    </tr>\n",
       "    <tr>\n",
       "      <th>576983 </th>\n",
       "      <td>                                         Valsons</td>\n",
       "      <td> 1905</td>\n",
       "      <td>        Armand Dranem</td>\n",
       "      <td>   actor</td>\n",
       "      <td>                                           Himself</td>\n",
       "      <td>NaN</td>\n",
       "    </tr>\n",
       "    <tr>\n",
       "      <th>1336080</th>\n",
       "      <td>                     The Story of the Kelly Gang</td>\n",
       "      <td> 1906</td>\n",
       "      <td>         Mr. Marshall</td>\n",
       "      <td>   actor</td>\n",
       "      <td>                                         Dan Kelly</td>\n",
       "      <td>NaN</td>\n",
       "    </tr>\n",
       "    <tr>\n",
       "      <th>736190 </th>\n",
       "      <td>              The Joe Gans-Battling Nelson Fight</td>\n",
       "      <td> 1906</td>\n",
       "      <td>             Joe Gans</td>\n",
       "      <td>   actor</td>\n",
       "      <td>                                           Himself</td>\n",
       "      <td>  1</td>\n",
       "    </tr>\n",
       "    <tr>\n",
       "      <th>626255 </th>\n",
       "      <td>                     The Story of the Kelly Gang</td>\n",
       "      <td> 1906</td>\n",
       "      <td>      Jack (II) Ennis</td>\n",
       "      <td>   actor</td>\n",
       "      <td>                                        Steve Hart</td>\n",
       "      <td>NaN</td>\n",
       "    </tr>\n",
       "    <tr>\n",
       "      <th>2061145</th>\n",
       "      <td>                     The Story of the Kelly Gang</td>\n",
       "      <td> 1906</td>\n",
       "      <td>            E.J. Tait</td>\n",
       "      <td>   actor</td>\n",
       "      <td>                                             Extra</td>\n",
       "      <td>NaN</td>\n",
       "    </tr>\n",
       "    <tr>\n",
       "      <th>2061146</th>\n",
       "      <td>                     The Story of the Kelly Gang</td>\n",
       "      <td> 1906</td>\n",
       "      <td>           Frank Tait</td>\n",
       "      <td>   actor</td>\n",
       "      <td>                                             Extra</td>\n",
       "      <td>NaN</td>\n",
       "    </tr>\n",
       "    <tr>\n",
       "      <th>2061155</th>\n",
       "      <td>                     The Story of the Kelly Gang</td>\n",
       "      <td> 1906</td>\n",
       "      <td>            John Tait</td>\n",
       "      <td>   actor</td>\n",
       "      <td>                                     School Master</td>\n",
       "      <td>  2</td>\n",
       "    </tr>\n",
       "    <tr>\n",
       "      <th>1388323</th>\n",
       "      <td>                     The Story of the Kelly Gang</td>\n",
       "      <td> 1906</td>\n",
       "      <td>         Mr. McKenzie</td>\n",
       "      <td>   actor</td>\n",
       "      <td>                                        Steve Hart</td>\n",
       "      <td>NaN</td>\n",
       "    </tr>\n",
       "    <tr>\n",
       "      <th>1524463</th>\n",
       "      <td>              The Joe Gans-Battling Nelson Fight</td>\n",
       "      <td> 1906</td>\n",
       "      <td>      Battling Nelson</td>\n",
       "      <td>   actor</td>\n",
       "      <td>                                           Himself</td>\n",
       "      <td>  2</td>\n",
       "    </tr>\n",
       "    <tr>\n",
       "      <th>3326366</th>\n",
       "      <td>                     The Story of the Kelly Gang</td>\n",
       "      <td> 1906</td>\n",
       "      <td>       Elizabeth Tait</td>\n",
       "      <td> actress</td>\n",
       "      <td>                                        Kate Kelly</td>\n",
       "      <td>  1</td>\n",
       "    </tr>\n",
       "    <tr>\n",
       "      <th>449993 </th>\n",
       "      <td>                     The Story of the Kelly Gang</td>\n",
       "      <td> 1906</td>\n",
       "      <td>           Will Coyne</td>\n",
       "      <td>   actor</td>\n",
       "      <td>                                         Joe Byrne</td>\n",
       "      <td>NaN</td>\n",
       "    </tr>\n",
       "    <tr>\n",
       "      <th>456135 </th>\n",
       "      <td>                     The Story of the Kelly Gang</td>\n",
       "      <td> 1906</td>\n",
       "      <td>           Sam Crewes</td>\n",
       "      <td>   actor</td>\n",
       "      <td>                                         Dan Kelly</td>\n",
       "      <td>NaN</td>\n",
       "    </tr>\n",
       "    <tr>\n",
       "      <th>1434522</th>\n",
       "      <td>                     The Story of the Kelly Gang</td>\n",
       "      <td> 1906</td>\n",
       "      <td>     Frank (VI) Mills</td>\n",
       "      <td>   actor</td>\n",
       "      <td>                                         Ned Kelly</td>\n",
       "      <td>NaN</td>\n",
       "    </tr>\n",
       "    <tr>\n",
       "      <th>693609 </th>\n",
       "      <td>                     The Story of the Kelly Gang</td>\n",
       "      <td> 1906</td>\n",
       "      <td>     John (III) Forde</td>\n",
       "      <td>   actor</td>\n",
       "      <td>                                         Dan Kelly</td>\n",
       "      <td>NaN</td>\n",
       "    </tr>\n",
       "    <tr>\n",
       "      <th>310576 </th>\n",
       "      <td>                     The Story of the Kelly Gang</td>\n",
       "      <td> 1906</td>\n",
       "      <td> Norman (II) Campbell</td>\n",
       "      <td>   actor</td>\n",
       "      <td>                                        Steve Hart</td>\n",
       "      <td>NaN</td>\n",
       "    </tr>\n",
       "    <tr>\n",
       "      <th>1177615</th>\n",
       "      <td>                                   Lika mot lika</td>\n",
       "      <td> 1906</td>\n",
       "      <td>         Knut Lambert</td>\n",
       "      <td>   actor</td>\n",
       "      <td>                                         Coq-H?ron</td>\n",
       "      <td>  1</td>\n",
       "    </tr>\n",
       "    <tr>\n",
       "      <th>2898263</th>\n",
       "      <td>                                   Lika mot lika</td>\n",
       "      <td> 1906</td>\n",
       "      <td>      Helfrid Lambert</td>\n",
       "      <td> actress</td>\n",
       "      <td>                                           Suzanne</td>\n",
       "      <td>  2</td>\n",
       "    </tr>\n",
       "    <tr>\n",
       "      <th>3455279</th>\n",
       "      <td>                                   Lika mot lika</td>\n",
       "      <td> 1906</td>\n",
       "      <td>       Tollie Zellman</td>\n",
       "      <td> actress</td>\n",
       "      <td>                              Clara, kammarjungfru</td>\n",
       "      <td>  3</td>\n",
       "    </tr>\n",
       "    <tr>\n",
       "      <th>758219 </th>\n",
       "      <td>                              Robbery Under Arms</td>\n",
       "      <td> 1907</td>\n",
       "      <td>           Jim Gerald</td>\n",
       "      <td>   actor</td>\n",
       "      <td>                                          Warrigal</td>\n",
       "      <td>  1</td>\n",
       "    </tr>\n",
       "    <tr>\n",
       "      <th>1413308</th>\n",
       "      <td>                              Robbery Under Arms</td>\n",
       "      <td> 1907</td>\n",
       "      <td>      George Merriman</td>\n",
       "      <td>   actor</td>\n",
       "      <td>                                            Warder</td>\n",
       "      <td>  2</td>\n",
       "    </tr>\n",
       "    <tr>\n",
       "      <th>830586 </th>\n",
       "      <td>                              Robbery Under Arms</td>\n",
       "      <td> 1907</td>\n",
       "      <td>         Arthur Guest</td>\n",
       "      <td>   actor</td>\n",
       "      <td>                                            Curate</td>\n",
       "      <td>  5</td>\n",
       "    </tr>\n",
       "    <tr>\n",
       "      <th>2163902</th>\n",
       "      <td>                              Robbery Under Arms</td>\n",
       "      <td> 1907</td>\n",
       "      <td>           Lance Vane</td>\n",
       "      <td>   actor</td>\n",
       "      <td>                               Inspector of Police</td>\n",
       "      <td>  3</td>\n",
       "    </tr>\n",
       "    <tr>\n",
       "      <th>583718 </th>\n",
       "      <td>                              Robbery Under Arms</td>\n",
       "      <td> 1907</td>\n",
       "      <td>         William Duff</td>\n",
       "      <td>   actor</td>\n",
       "      <td>                                           Trooper</td>\n",
       "      <td>  4</td>\n",
       "    </tr>\n",
       "    <tr>\n",
       "      <th>2218313</th>\n",
       "      <td>                  The Fairylogue and Radio-Plays</td>\n",
       "      <td> 1908</td>\n",
       "      <td>     Bronson Ward Jr.</td>\n",
       "      <td>   actor</td>\n",
       "      <td>         Jack Pumpkinhead - whose Brains are Seeds</td>\n",
       "      <td>  5</td>\n",
       "    </tr>\n",
       "    <tr>\n",
       "      <th>392462 </th>\n",
       "      <td>                  The Fairylogue and Radio-Plays</td>\n",
       "      <td> 1908</td>\n",
       "      <td>      D.W. Clapperton</td>\n",
       "      <td>   actor</td>\n",
       "      <td>         Sir Rooster - Visitor at the Emerald City</td>\n",
       "      <td> 14</td>\n",
       "    </tr>\n",
       "    <tr>\n",
       "      <th>...</th>\n",
       "      <td>...</td>\n",
       "      <td>...</td>\n",
       "      <td>...</td>\n",
       "      <td>...</td>\n",
       "      <td>...</td>\n",
       "      <td>...</td>\n",
       "    </tr>\n",
       "    <tr>\n",
       "      <th>1749770</th>\n",
       "      <td>                                  Gordon's Quest</td>\n",
       "      <td> 2020</td>\n",
       "      <td>         Pollini Reed</td>\n",
       "      <td>   actor</td>\n",
       "      <td>                                    Prince Pollini</td>\n",
       "      <td>NaN</td>\n",
       "    </tr>\n",
       "    <tr>\n",
       "      <th>1875229</th>\n",
       "      <td>          The Windwater Pack: Homebound Drifters</td>\n",
       "      <td> 2020</td>\n",
       "      <td>  Joshua (IV) Sawtell</td>\n",
       "      <td>   actor</td>\n",
       "      <td>                                             Chico</td>\n",
       "      <td>NaN</td>\n",
       "    </tr>\n",
       "    <tr>\n",
       "      <th>682954 </th>\n",
       "      <td>                    Cranium Intel: Magnetism X.3</td>\n",
       "      <td> 2020</td>\n",
       "      <td>   Leon (II) Fleisher</td>\n",
       "      <td>   actor</td>\n",
       "      <td>                               Red Falcon - EXTeam</td>\n",
       "      <td>NaN</td>\n",
       "    </tr>\n",
       "    <tr>\n",
       "      <th>2434752</th>\n",
       "      <td> Unity, Guardians Versus Corruption: War of Ages</td>\n",
       "      <td> 2021</td>\n",
       "      <td>        Brianna Bills</td>\n",
       "      <td> actress</td>\n",
       "      <td>                                     Queen Trinity</td>\n",
       "      <td>NaN</td>\n",
       "    </tr>\n",
       "    <tr>\n",
       "      <th>3171016</th>\n",
       "      <td>            Battle of Evil: The Evil of the Dark</td>\n",
       "      <td> 2021</td>\n",
       "      <td>  Marlena (II) Rauber</td>\n",
       "      <td> actress</td>\n",
       "      <td>                                        Mary Smith</td>\n",
       "      <td>NaN</td>\n",
       "    </tr>\n",
       "    <tr>\n",
       "      <th>1950507</th>\n",
       "      <td>                                     The Hamster</td>\n",
       "      <td> 2021</td>\n",
       "      <td>      Bob (II) Simons</td>\n",
       "      <td>   actor</td>\n",
       "      <td>                             William Steadwell DOD</td>\n",
       "      <td>NaN</td>\n",
       "    </tr>\n",
       "    <tr>\n",
       "      <th>2019306</th>\n",
       "      <td>            Battle of Evil: The Evil of the Dark</td>\n",
       "      <td> 2021</td>\n",
       "      <td>      Isaac Stevenson</td>\n",
       "      <td>   actor</td>\n",
       "      <td>                                       Bratt Smith</td>\n",
       "      <td>NaN</td>\n",
       "    </tr>\n",
       "    <tr>\n",
       "      <th>2631358</th>\n",
       "      <td>            Battle of Evil: The Evil of the Dark</td>\n",
       "      <td> 2021</td>\n",
       "      <td> Joshua (III) Edwards</td>\n",
       "      <td> actress</td>\n",
       "      <td>                                     Adam Anderson</td>\n",
       "      <td>NaN</td>\n",
       "    </tr>\n",
       "    <tr>\n",
       "      <th>2434753</th>\n",
       "      <td> Unity, Guardians Versus Corruption: War of Ages</td>\n",
       "      <td> 2021</td>\n",
       "      <td>        Brianna Bills</td>\n",
       "      <td> actress</td>\n",
       "      <td>                                               Lin</td>\n",
       "      <td>NaN</td>\n",
       "    </tr>\n",
       "    <tr>\n",
       "      <th>21978  </th>\n",
       "      <td> Unity, Guardians Versus Corruption: War of Ages</td>\n",
       "      <td> 2021</td>\n",
       "      <td>         Zack Akerman</td>\n",
       "      <td>   actor</td>\n",
       "      <td>                                           Crazing</td>\n",
       "      <td>NaN</td>\n",
       "    </tr>\n",
       "    <tr>\n",
       "      <th>21979  </th>\n",
       "      <td> Unity, Guardians Versus Corruption: War of Ages</td>\n",
       "      <td> 2021</td>\n",
       "      <td>         Zack Akerman</td>\n",
       "      <td>   actor</td>\n",
       "      <td>                                              Aqua</td>\n",
       "      <td>NaN</td>\n",
       "    </tr>\n",
       "    <tr>\n",
       "      <th>21980  </th>\n",
       "      <td> Unity, Guardians Versus Corruption: War of Ages</td>\n",
       "      <td> 2021</td>\n",
       "      <td>         Zack Akerman</td>\n",
       "      <td>   actor</td>\n",
       "      <td>                                             Flare</td>\n",
       "      <td>NaN</td>\n",
       "    </tr>\n",
       "    <tr>\n",
       "      <th>21977  </th>\n",
       "      <td> Unity, Guardians Versus Corruption: War of Ages</td>\n",
       "      <td> 2021</td>\n",
       "      <td>         Zack Akerman</td>\n",
       "      <td>   actor</td>\n",
       "      <td>                                           Rocko8u</td>\n",
       "      <td>NaN</td>\n",
       "    </tr>\n",
       "    <tr>\n",
       "      <th>3416614</th>\n",
       "      <td>            Battle of Evil: The Evil of the Dark</td>\n",
       "      <td> 2021</td>\n",
       "      <td>      Debbie Wheatley</td>\n",
       "      <td> actress</td>\n",
       "      <td>                                        Beth Smith</td>\n",
       "      <td>NaN</td>\n",
       "    </tr>\n",
       "    <tr>\n",
       "      <th>2471669</th>\n",
       "      <td>            Battle of Evil: The Evil of the Dark</td>\n",
       "      <td> 2021</td>\n",
       "      <td>     Marshe' Brownlee</td>\n",
       "      <td> actress</td>\n",
       "      <td>                                      Katie Wilson</td>\n",
       "      <td>NaN</td>\n",
       "    </tr>\n",
       "    <tr>\n",
       "      <th>21981  </th>\n",
       "      <td> Unity, Guardians Versus Corruption: War of Ages</td>\n",
       "      <td> 2021</td>\n",
       "      <td>         Zack Akerman</td>\n",
       "      <td>   actor</td>\n",
       "      <td>                                              Sage</td>\n",
       "      <td>NaN</td>\n",
       "    </tr>\n",
       "    <tr>\n",
       "      <th>274591 </th>\n",
       "      <td>                              City of Grand Prix</td>\n",
       "      <td> 2021</td>\n",
       "      <td>   Jonathan Buckhouse</td>\n",
       "      <td>   actor</td>\n",
       "      <td>                                    Jonathan Sharp</td>\n",
       "      <td>NaN</td>\n",
       "    </tr>\n",
       "    <tr>\n",
       "      <th>14652  </th>\n",
       "      <td> Unity, Guardians Versus Corruption: War of Ages</td>\n",
       "      <td> 2021</td>\n",
       "      <td>       Tyler Adornato</td>\n",
       "      <td>   actor</td>\n",
       "      <td>                                              Xile</td>\n",
       "      <td>NaN</td>\n",
       "    </tr>\n",
       "    <tr>\n",
       "      <th>548738 </th>\n",
       "      <td>                               Fast &amp; Furious 10</td>\n",
       "      <td> 2021</td>\n",
       "      <td>           Vin Diesel</td>\n",
       "      <td>   actor</td>\n",
       "      <td>                                   Dominic Toretto</td>\n",
       "      <td>NaN</td>\n",
       "    </tr>\n",
       "    <tr>\n",
       "      <th>14654  </th>\n",
       "      <td> Unity, Guardians Versus Corruption: War of Ages</td>\n",
       "      <td> 2021</td>\n",
       "      <td>       Tyler Adornato</td>\n",
       "      <td>   actor</td>\n",
       "      <td>                                         Clockwork</td>\n",
       "      <td>NaN</td>\n",
       "    </tr>\n",
       "    <tr>\n",
       "      <th>14655  </th>\n",
       "      <td> Unity, Guardians Versus Corruption: War of Ages</td>\n",
       "      <td> 2021</td>\n",
       "      <td>       Tyler Adornato</td>\n",
       "      <td>   actor</td>\n",
       "      <td>                                          Zignitch</td>\n",
       "      <td>NaN</td>\n",
       "    </tr>\n",
       "    <tr>\n",
       "      <th>14656  </th>\n",
       "      <td> Unity, Guardians Versus Corruption: War of Ages</td>\n",
       "      <td> 2021</td>\n",
       "      <td>       Tyler Adornato</td>\n",
       "      <td>   actor</td>\n",
       "      <td>                                              Trok</td>\n",
       "      <td>NaN</td>\n",
       "    </tr>\n",
       "    <tr>\n",
       "      <th>384763 </th>\n",
       "      <td>                                     The Hamster</td>\n",
       "      <td> 2021</td>\n",
       "      <td>      Jack Christophe</td>\n",
       "      <td>   actor</td>\n",
       "      <td>                                       Jack T. Cat</td>\n",
       "      <td>NaN</td>\n",
       "    </tr>\n",
       "    <tr>\n",
       "      <th>14653  </th>\n",
       "      <td> Unity, Guardians Versus Corruption: War of Ages</td>\n",
       "      <td> 2021</td>\n",
       "      <td>       Tyler Adornato</td>\n",
       "      <td>   actor</td>\n",
       "      <td>                                              Mike</td>\n",
       "      <td>NaN</td>\n",
       "    </tr>\n",
       "    <tr>\n",
       "      <th>3224463</th>\n",
       "      <td>                                        Avatar 4</td>\n",
       "      <td> 2022</td>\n",
       "      <td>          Zoe Saldana</td>\n",
       "      <td> actress</td>\n",
       "      <td>                                           Neytiri</td>\n",
       "      <td>NaN</td>\n",
       "    </tr>\n",
       "    <tr>\n",
       "      <th>2296610</th>\n",
       "      <td>                                        Avatar 4</td>\n",
       "      <td> 2022</td>\n",
       "      <td>      Sam Worthington</td>\n",
       "      <td>   actor</td>\n",
       "      <td>                                        Jake Sully</td>\n",
       "      <td>NaN</td>\n",
       "    </tr>\n",
       "    <tr>\n",
       "      <th>345973 </th>\n",
       "      <td>                               Ready N' Reloaded</td>\n",
       "      <td> 2022</td>\n",
       "      <td>          Gabe Cazeau</td>\n",
       "      <td>   actor</td>\n",
       "      <td>                               Captain Bryan Jones</td>\n",
       "      <td>NaN</td>\n",
       "    </tr>\n",
       "    <tr>\n",
       "      <th>1183346</th>\n",
       "      <td>                                        Avatar 4</td>\n",
       "      <td> 2022</td>\n",
       "      <td>         Stephen Lang</td>\n",
       "      <td>   actor</td>\n",
       "      <td>                                    Miles Quaritch</td>\n",
       "      <td>NaN</td>\n",
       "    </tr>\n",
       "    <tr>\n",
       "      <th>1427872</th>\n",
       "      <td>                               Ready N' Reloaded</td>\n",
       "      <td> 2022</td>\n",
       "      <td>       Faton Millanaj</td>\n",
       "      <td>   actor</td>\n",
       "      <td>                            FBI Agent Darren Smith</td>\n",
       "      <td>NaN</td>\n",
       "    </tr>\n",
       "    <tr>\n",
       "      <th>2228835</th>\n",
       "      <td>                               Ready N' Reloaded</td>\n",
       "      <td> 2022</td>\n",
       "      <td>  Xaiven (III) Watson</td>\n",
       "      <td>   actor</td>\n",
       "      <td>                           FBI Agent Carter Watson</td>\n",
       "      <td>NaN</td>\n",
       "    </tr>\n",
       "  </tbody>\n",
       "</table>\n",
       "<p>3461466 rows × 6 columns</p>\n",
       "</div>"
      ],
      "text/plain": [
       "                                                   title  year  \\\n",
       "446038                                        Miss Jerry  1894   \n",
       "2413448                                       Miss Jerry  1894   \n",
       "533639                                        Miss Jerry  1894   \n",
       "1649728                            Soldiers of the Cross  1900   \n",
       "1649879                            Soldiers of the Cross  1900   \n",
       "576983                                           Valsons  1905   \n",
       "1336080                      The Story of the Kelly Gang  1906   \n",
       "736190                The Joe Gans-Battling Nelson Fight  1906   \n",
       "626255                       The Story of the Kelly Gang  1906   \n",
       "2061145                      The Story of the Kelly Gang  1906   \n",
       "2061146                      The Story of the Kelly Gang  1906   \n",
       "2061155                      The Story of the Kelly Gang  1906   \n",
       "1388323                      The Story of the Kelly Gang  1906   \n",
       "1524463               The Joe Gans-Battling Nelson Fight  1906   \n",
       "3326366                      The Story of the Kelly Gang  1906   \n",
       "449993                       The Story of the Kelly Gang  1906   \n",
       "456135                       The Story of the Kelly Gang  1906   \n",
       "1434522                      The Story of the Kelly Gang  1906   \n",
       "693609                       The Story of the Kelly Gang  1906   \n",
       "310576                       The Story of the Kelly Gang  1906   \n",
       "1177615                                    Lika mot lika  1906   \n",
       "2898263                                    Lika mot lika  1906   \n",
       "3455279                                    Lika mot lika  1906   \n",
       "758219                                Robbery Under Arms  1907   \n",
       "1413308                               Robbery Under Arms  1907   \n",
       "830586                                Robbery Under Arms  1907   \n",
       "2163902                               Robbery Under Arms  1907   \n",
       "583718                                Robbery Under Arms  1907   \n",
       "2218313                   The Fairylogue and Radio-Plays  1908   \n",
       "392462                    The Fairylogue and Radio-Plays  1908   \n",
       "...                                                  ...   ...   \n",
       "1749770                                   Gordon's Quest  2020   \n",
       "1875229           The Windwater Pack: Homebound Drifters  2020   \n",
       "682954                      Cranium Intel: Magnetism X.3  2020   \n",
       "2434752  Unity, Guardians Versus Corruption: War of Ages  2021   \n",
       "3171016             Battle of Evil: The Evil of the Dark  2021   \n",
       "1950507                                      The Hamster  2021   \n",
       "2019306             Battle of Evil: The Evil of the Dark  2021   \n",
       "2631358             Battle of Evil: The Evil of the Dark  2021   \n",
       "2434753  Unity, Guardians Versus Corruption: War of Ages  2021   \n",
       "21978    Unity, Guardians Versus Corruption: War of Ages  2021   \n",
       "21979    Unity, Guardians Versus Corruption: War of Ages  2021   \n",
       "21980    Unity, Guardians Versus Corruption: War of Ages  2021   \n",
       "21977    Unity, Guardians Versus Corruption: War of Ages  2021   \n",
       "3416614             Battle of Evil: The Evil of the Dark  2021   \n",
       "2471669             Battle of Evil: The Evil of the Dark  2021   \n",
       "21981    Unity, Guardians Versus Corruption: War of Ages  2021   \n",
       "274591                                City of Grand Prix  2021   \n",
       "14652    Unity, Guardians Versus Corruption: War of Ages  2021   \n",
       "548738                                 Fast & Furious 10  2021   \n",
       "14654    Unity, Guardians Versus Corruption: War of Ages  2021   \n",
       "14655    Unity, Guardians Versus Corruption: War of Ages  2021   \n",
       "14656    Unity, Guardians Versus Corruption: War of Ages  2021   \n",
       "384763                                       The Hamster  2021   \n",
       "14653    Unity, Guardians Versus Corruption: War of Ages  2021   \n",
       "3224463                                         Avatar 4  2022   \n",
       "2296610                                         Avatar 4  2022   \n",
       "345973                                 Ready N' Reloaded  2022   \n",
       "1183346                                         Avatar 4  2022   \n",
       "1427872                                Ready N' Reloaded  2022   \n",
       "2228835                                Ready N' Reloaded  2022   \n",
       "\n",
       "                         name     type  \\\n",
       "446038      William Courtenay    actor   \n",
       "2413448       Blanche Bayliss  actress   \n",
       "533639         Chauncey Depew    actor   \n",
       "1649728           Orrie Perry    actor   \n",
       "1649879             Reg Perry    actor   \n",
       "576983          Armand Dranem    actor   \n",
       "1336080          Mr. Marshall    actor   \n",
       "736190               Joe Gans    actor   \n",
       "626255        Jack (II) Ennis    actor   \n",
       "2061145             E.J. Tait    actor   \n",
       "2061146            Frank Tait    actor   \n",
       "2061155             John Tait    actor   \n",
       "1388323          Mr. McKenzie    actor   \n",
       "1524463       Battling Nelson    actor   \n",
       "3326366        Elizabeth Tait  actress   \n",
       "449993             Will Coyne    actor   \n",
       "456135             Sam Crewes    actor   \n",
       "1434522      Frank (VI) Mills    actor   \n",
       "693609       John (III) Forde    actor   \n",
       "310576   Norman (II) Campbell    actor   \n",
       "1177615          Knut Lambert    actor   \n",
       "2898263       Helfrid Lambert  actress   \n",
       "3455279        Tollie Zellman  actress   \n",
       "758219             Jim Gerald    actor   \n",
       "1413308       George Merriman    actor   \n",
       "830586           Arthur Guest    actor   \n",
       "2163902            Lance Vane    actor   \n",
       "583718           William Duff    actor   \n",
       "2218313      Bronson Ward Jr.    actor   \n",
       "392462        D.W. Clapperton    actor   \n",
       "...                       ...      ...   \n",
       "1749770          Pollini Reed    actor   \n",
       "1875229   Joshua (IV) Sawtell    actor   \n",
       "682954     Leon (II) Fleisher    actor   \n",
       "2434752         Brianna Bills  actress   \n",
       "3171016   Marlena (II) Rauber  actress   \n",
       "1950507       Bob (II) Simons    actor   \n",
       "2019306       Isaac Stevenson    actor   \n",
       "2631358  Joshua (III) Edwards  actress   \n",
       "2434753         Brianna Bills  actress   \n",
       "21978            Zack Akerman    actor   \n",
       "21979            Zack Akerman    actor   \n",
       "21980            Zack Akerman    actor   \n",
       "21977            Zack Akerman    actor   \n",
       "3416614       Debbie Wheatley  actress   \n",
       "2471669      Marshe' Brownlee  actress   \n",
       "21981            Zack Akerman    actor   \n",
       "274591     Jonathan Buckhouse    actor   \n",
       "14652          Tyler Adornato    actor   \n",
       "548738             Vin Diesel    actor   \n",
       "14654          Tyler Adornato    actor   \n",
       "14655          Tyler Adornato    actor   \n",
       "14656          Tyler Adornato    actor   \n",
       "384763        Jack Christophe    actor   \n",
       "14653          Tyler Adornato    actor   \n",
       "3224463           Zoe Saldana  actress   \n",
       "2296610       Sam Worthington    actor   \n",
       "345973            Gabe Cazeau    actor   \n",
       "1183346          Stephen Lang    actor   \n",
       "1427872        Faton Millanaj    actor   \n",
       "2228835   Xaiven (III) Watson    actor   \n",
       "\n",
       "                                                 character   n  \n",
       "446038                                        Mr. Hamilton NaN  \n",
       "2413448               Miss Geraldine Holbrook (Miss Jerry) NaN  \n",
       "533639   Himself - the Director of the New York Central... NaN  \n",
       "1649728                                               Lion NaN  \n",
       "1649879                                               Lion NaN  \n",
       "576983                                             Himself NaN  \n",
       "1336080                                          Dan Kelly NaN  \n",
       "736190                                             Himself   1  \n",
       "626255                                          Steve Hart NaN  \n",
       "2061145                                              Extra NaN  \n",
       "2061146                                              Extra NaN  \n",
       "2061155                                      School Master   2  \n",
       "1388323                                         Steve Hart NaN  \n",
       "1524463                                            Himself   2  \n",
       "3326366                                         Kate Kelly   1  \n",
       "449993                                           Joe Byrne NaN  \n",
       "456135                                           Dan Kelly NaN  \n",
       "1434522                                          Ned Kelly NaN  \n",
       "693609                                           Dan Kelly NaN  \n",
       "310576                                          Steve Hart NaN  \n",
       "1177615                                          Coq-H?ron   1  \n",
       "2898263                                            Suzanne   2  \n",
       "3455279                               Clara, kammarjungfru   3  \n",
       "758219                                            Warrigal   1  \n",
       "1413308                                             Warder   2  \n",
       "830586                                              Curate   5  \n",
       "2163902                                Inspector of Police   3  \n",
       "583718                                             Trooper   4  \n",
       "2218313          Jack Pumpkinhead - whose Brains are Seeds   5  \n",
       "392462           Sir Rooster - Visitor at the Emerald City  14  \n",
       "...                                                    ...  ..  \n",
       "1749770                                     Prince Pollini NaN  \n",
       "1875229                                              Chico NaN  \n",
       "682954                                 Red Falcon - EXTeam NaN  \n",
       "2434752                                      Queen Trinity NaN  \n",
       "3171016                                         Mary Smith NaN  \n",
       "1950507                              William Steadwell DOD NaN  \n",
       "2019306                                        Bratt Smith NaN  \n",
       "2631358                                      Adam Anderson NaN  \n",
       "2434753                                                Lin NaN  \n",
       "21978                                              Crazing NaN  \n",
       "21979                                                 Aqua NaN  \n",
       "21980                                                Flare NaN  \n",
       "21977                                              Rocko8u NaN  \n",
       "3416614                                         Beth Smith NaN  \n",
       "2471669                                       Katie Wilson NaN  \n",
       "21981                                                 Sage NaN  \n",
       "274591                                      Jonathan Sharp NaN  \n",
       "14652                                                 Xile NaN  \n",
       "548738                                     Dominic Toretto NaN  \n",
       "14654                                            Clockwork NaN  \n",
       "14655                                             Zignitch NaN  \n",
       "14656                                                 Trok NaN  \n",
       "384763                                         Jack T. Cat NaN  \n",
       "14653                                                 Mike NaN  \n",
       "3224463                                            Neytiri NaN  \n",
       "2296610                                         Jake Sully NaN  \n",
       "345973                                 Captain Bryan Jones NaN  \n",
       "1183346                                     Miles Quaritch NaN  \n",
       "1427872                             FBI Agent Darren Smith NaN  \n",
       "2228835                            FBI Agent Carter Watson NaN  \n",
       "\n",
       "[3461466 rows x 6 columns]"
      ]
     },
     "execution_count": 60,
     "metadata": {},
     "output_type": "execute_result"
    }
   ],
   "source": [
    "cast.sort('year')"
   ]
  },
  {
   "cell_type": "markdown",
   "metadata": {
    "collapsed": true
   },
   "source": [
    "### How many movies have the title \"Hamlet\"?"
   ]
  },
  {
   "cell_type": "code",
   "execution_count": 66,
   "metadata": {
    "collapsed": false
   },
   "outputs": [
    {
     "data": {
      "text/plain": [
       "17"
      ]
     },
     "execution_count": 66,
     "metadata": {},
     "output_type": "execute_result"
    }
   ],
   "source": [
    "len(set(cast[cast.title == 'Hamlet'].year))"
   ]
  },
  {
   "cell_type": "code",
   "execution_count": null,
   "metadata": {
    "collapsed": true
   },
   "outputs": [],
   "source": []
  },
  {
   "cell_type": "markdown",
   "metadata": {
    "collapsed": true
   },
   "source": [
    "### How many movies are titled \"North by Northwest\"?"
   ]
  },
  {
   "cell_type": "code",
   "execution_count": null,
   "metadata": {
    "collapsed": true
   },
   "outputs": [],
   "source": []
  },
  {
   "cell_type": "code",
   "execution_count": null,
   "metadata": {
    "collapsed": true
   },
   "outputs": [],
   "source": []
  },
  {
   "cell_type": "markdown",
   "metadata": {
    "collapsed": true
   },
   "source": [
    "### When was the first movie titled \"Hamlet\" made?"
   ]
  },
  {
   "cell_type": "code",
   "execution_count": null,
   "metadata": {
    "collapsed": true
   },
   "outputs": [],
   "source": []
  },
  {
   "cell_type": "code",
   "execution_count": null,
   "metadata": {
    "collapsed": true
   },
   "outputs": [],
   "source": []
  },
  {
   "cell_type": "markdown",
   "metadata": {
    "collapsed": true
   },
   "source": [
    "### List all of the \"Treasure Island\" movies from earliest to most recent."
   ]
  },
  {
   "cell_type": "code",
   "execution_count": null,
   "metadata": {
    "collapsed": true
   },
   "outputs": [],
   "source": []
  },
  {
   "cell_type": "code",
   "execution_count": null,
   "metadata": {
    "collapsed": true
   },
   "outputs": [],
   "source": []
  },
  {
   "cell_type": "markdown",
   "metadata": {
    "collapsed": true
   },
   "source": [
    "### How many movies were made in the year 1950?"
   ]
  },
  {
   "cell_type": "code",
   "execution_count": null,
   "metadata": {
    "collapsed": true
   },
   "outputs": [],
   "source": []
  },
  {
   "cell_type": "code",
   "execution_count": null,
   "metadata": {
    "collapsed": true
   },
   "outputs": [],
   "source": []
  },
  {
   "cell_type": "markdown",
   "metadata": {
    "collapsed": true
   },
   "source": [
    "### How many movies were made in the year 1960?"
   ]
  },
  {
   "cell_type": "code",
   "execution_count": null,
   "metadata": {
    "collapsed": true
   },
   "outputs": [],
   "source": []
  },
  {
   "cell_type": "code",
   "execution_count": null,
   "metadata": {
    "collapsed": true
   },
   "outputs": [],
   "source": []
  },
  {
   "cell_type": "markdown",
   "metadata": {
    "collapsed": true
   },
   "source": [
    "### How many movies were made from 1950 through 1959?"
   ]
  },
  {
   "cell_type": "code",
   "execution_count": null,
   "metadata": {
    "collapsed": true
   },
   "outputs": [],
   "source": []
  },
  {
   "cell_type": "code",
   "execution_count": null,
   "metadata": {
    "collapsed": true
   },
   "outputs": [],
   "source": []
  },
  {
   "cell_type": "markdown",
   "metadata": {
    "collapsed": true
   },
   "source": [
    "### In what years has a movie titled \"Batman\" been released?"
   ]
  },
  {
   "cell_type": "code",
   "execution_count": null,
   "metadata": {
    "collapsed": true
   },
   "outputs": [],
   "source": []
  },
  {
   "cell_type": "code",
   "execution_count": null,
   "metadata": {
    "collapsed": true
   },
   "outputs": [],
   "source": []
  },
  {
   "cell_type": "markdown",
   "metadata": {
    "collapsed": true
   },
   "source": [
    "### How many roles were there in the movie \"Inception\"?"
   ]
  },
  {
   "cell_type": "code",
   "execution_count": null,
   "metadata": {
    "collapsed": true
   },
   "outputs": [],
   "source": []
  },
  {
   "cell_type": "code",
   "execution_count": null,
   "metadata": {
    "collapsed": true
   },
   "outputs": [],
   "source": []
  },
  {
   "cell_type": "markdown",
   "metadata": {
    "collapsed": true
   },
   "source": [
    "### How many roles in the movie \"Inception\" are NOT ranked by an \"n\" value?"
   ]
  },
  {
   "cell_type": "code",
   "execution_count": null,
   "metadata": {
    "collapsed": true
   },
   "outputs": [],
   "source": []
  },
  {
   "cell_type": "code",
   "execution_count": null,
   "metadata": {
    "collapsed": true
   },
   "outputs": [],
   "source": []
  },
  {
   "cell_type": "markdown",
   "metadata": {
    "collapsed": true
   },
   "source": [
    "### But how many roles in the movie \"Inception\" did receive an \"n\" value?"
   ]
  },
  {
   "cell_type": "code",
   "execution_count": null,
   "metadata": {
    "collapsed": true
   },
   "outputs": [],
   "source": []
  },
  {
   "cell_type": "code",
   "execution_count": null,
   "metadata": {
    "collapsed": true
   },
   "outputs": [],
   "source": []
  },
  {
   "cell_type": "markdown",
   "metadata": {
    "collapsed": true
   },
   "source": [
    "### Display the cast of \"North by Northwest\" in their correct \"n\"-value order, ignoring roles that did not earn a numeric \"n\" value."
   ]
  },
  {
   "cell_type": "code",
   "execution_count": null,
   "metadata": {
    "collapsed": true
   },
   "outputs": [],
   "source": []
  },
  {
   "cell_type": "code",
   "execution_count": null,
   "metadata": {
    "collapsed": true
   },
   "outputs": [],
   "source": []
  },
  {
   "cell_type": "markdown",
   "metadata": {
    "collapsed": true
   },
   "source": [
    "### Display the entire cast, in \"n\"-order, of the 1972 film \"Sleuth\"."
   ]
  },
  {
   "cell_type": "code",
   "execution_count": null,
   "metadata": {
    "collapsed": true
   },
   "outputs": [],
   "source": []
  },
  {
   "cell_type": "code",
   "execution_count": null,
   "metadata": {
    "collapsed": true
   },
   "outputs": [],
   "source": []
  },
  {
   "cell_type": "markdown",
   "metadata": {
    "collapsed": true
   },
   "source": [
    "### Now display the entire cast, in \"n\"-order, of the 2007 version of \"Sleuth\"."
   ]
  },
  {
   "cell_type": "code",
   "execution_count": null,
   "metadata": {
    "collapsed": true
   },
   "outputs": [],
   "source": []
  },
  {
   "cell_type": "code",
   "execution_count": null,
   "metadata": {
    "collapsed": true
   },
   "outputs": [],
   "source": []
  },
  {
   "cell_type": "markdown",
   "metadata": {
    "collapsed": true
   },
   "source": [
    "### How many roles were credited in the silent 1921 version of Hamlet?"
   ]
  },
  {
   "cell_type": "code",
   "execution_count": null,
   "metadata": {
    "collapsed": true
   },
   "outputs": [],
   "source": []
  },
  {
   "cell_type": "code",
   "execution_count": null,
   "metadata": {
    "collapsed": true
   },
   "outputs": [],
   "source": []
  },
  {
   "cell_type": "markdown",
   "metadata": {
    "collapsed": true
   },
   "source": [
    "### How many roles were credited in Branagh’s 1996 Hamlet?"
   ]
  },
  {
   "cell_type": "code",
   "execution_count": null,
   "metadata": {
    "collapsed": true
   },
   "outputs": [],
   "source": []
  },
  {
   "cell_type": "code",
   "execution_count": null,
   "metadata": {
    "collapsed": true
   },
   "outputs": [],
   "source": []
  },
  {
   "cell_type": "markdown",
   "metadata": {
    "collapsed": true
   },
   "source": [
    "### How many \"Hamlet\" roles have been listed in all film credits through history?"
   ]
  },
  {
   "cell_type": "code",
   "execution_count": null,
   "metadata": {
    "collapsed": true
   },
   "outputs": [],
   "source": []
  },
  {
   "cell_type": "code",
   "execution_count": null,
   "metadata": {
    "collapsed": true
   },
   "outputs": [],
   "source": []
  },
  {
   "cell_type": "markdown",
   "metadata": {
    "collapsed": true
   },
   "source": [
    "### How many people have played an \"Ophelia\"?"
   ]
  },
  {
   "cell_type": "code",
   "execution_count": null,
   "metadata": {
    "collapsed": true
   },
   "outputs": [],
   "source": []
  },
  {
   "cell_type": "code",
   "execution_count": null,
   "metadata": {
    "collapsed": true
   },
   "outputs": [],
   "source": []
  },
  {
   "cell_type": "markdown",
   "metadata": {
    "collapsed": true
   },
   "source": [
    "### How many people have played a role called \"The Dude\"?"
   ]
  },
  {
   "cell_type": "code",
   "execution_count": null,
   "metadata": {
    "collapsed": true
   },
   "outputs": [],
   "source": []
  },
  {
   "cell_type": "code",
   "execution_count": null,
   "metadata": {
    "collapsed": true
   },
   "outputs": [],
   "source": []
  },
  {
   "cell_type": "markdown",
   "metadata": {
    "collapsed": true
   },
   "source": [
    "### How many people have played a role called \"The Stranger\"?"
   ]
  },
  {
   "cell_type": "code",
   "execution_count": null,
   "metadata": {
    "collapsed": true
   },
   "outputs": [],
   "source": []
  },
  {
   "cell_type": "code",
   "execution_count": null,
   "metadata": {
    "collapsed": true
   },
   "outputs": [],
   "source": []
  },
  {
   "cell_type": "markdown",
   "metadata": {
    "collapsed": true
   },
   "source": [
    "### How many roles has Sidney Poitier played throughout his career?"
   ]
  },
  {
   "cell_type": "code",
   "execution_count": null,
   "metadata": {
    "collapsed": true
   },
   "outputs": [],
   "source": []
  },
  {
   "cell_type": "code",
   "execution_count": null,
   "metadata": {
    "collapsed": true
   },
   "outputs": [],
   "source": []
  },
  {
   "cell_type": "markdown",
   "metadata": {
    "collapsed": true
   },
   "source": [
    "### How many roles has Judi Dench played?"
   ]
  },
  {
   "cell_type": "code",
   "execution_count": null,
   "metadata": {
    "collapsed": true
   },
   "outputs": [],
   "source": []
  },
  {
   "cell_type": "code",
   "execution_count": null,
   "metadata": {
    "collapsed": true
   },
   "outputs": [],
   "source": []
  },
  {
   "cell_type": "markdown",
   "metadata": {
    "collapsed": true
   },
   "source": [
    "### List the supporting roles (having n=2) played by Cary Grant in the 1940s, in order by year."
   ]
  },
  {
   "cell_type": "code",
   "execution_count": null,
   "metadata": {
    "collapsed": true
   },
   "outputs": [],
   "source": []
  },
  {
   "cell_type": "code",
   "execution_count": null,
   "metadata": {
    "collapsed": true
   },
   "outputs": [],
   "source": []
  },
  {
   "cell_type": "markdown",
   "metadata": {
    "collapsed": true
   },
   "source": [
    "### List the leading roles that Cary Grant played in the 1940s in order by year."
   ]
  },
  {
   "cell_type": "code",
   "execution_count": null,
   "metadata": {
    "collapsed": true
   },
   "outputs": [],
   "source": []
  },
  {
   "cell_type": "code",
   "execution_count": null,
   "metadata": {
    "collapsed": true
   },
   "outputs": [],
   "source": []
  },
  {
   "cell_type": "markdown",
   "metadata": {
    "collapsed": true
   },
   "source": [
    "### How many roles were available for actors in the 1950s?"
   ]
  },
  {
   "cell_type": "code",
   "execution_count": null,
   "metadata": {
    "collapsed": true
   },
   "outputs": [],
   "source": []
  },
  {
   "cell_type": "code",
   "execution_count": null,
   "metadata": {
    "collapsed": true
   },
   "outputs": [],
   "source": []
  },
  {
   "cell_type": "markdown",
   "metadata": {
    "collapsed": true
   },
   "source": [
    "### How many roles were avilable for actresses in the 1950s?"
   ]
  },
  {
   "cell_type": "code",
   "execution_count": null,
   "metadata": {
    "collapsed": true
   },
   "outputs": [],
   "source": []
  },
  {
   "cell_type": "code",
   "execution_count": null,
   "metadata": {
    "collapsed": true
   },
   "outputs": [],
   "source": []
  },
  {
   "cell_type": "markdown",
   "metadata": {
    "collapsed": true
   },
   "source": [
    "### How many leading roles (n=1) were available from the beginning of film history through 1980?"
   ]
  },
  {
   "cell_type": "code",
   "execution_count": null,
   "metadata": {
    "collapsed": true
   },
   "outputs": [],
   "source": []
  },
  {
   "cell_type": "code",
   "execution_count": null,
   "metadata": {
    "collapsed": true
   },
   "outputs": [],
   "source": []
  },
  {
   "cell_type": "markdown",
   "metadata": {
    "collapsed": true
   },
   "source": [
    "### How many non-leading roles were available through from the beginning of film history through 1980?"
   ]
  },
  {
   "cell_type": "code",
   "execution_count": null,
   "metadata": {
    "collapsed": true
   },
   "outputs": [],
   "source": []
  },
  {
   "cell_type": "code",
   "execution_count": null,
   "metadata": {
    "collapsed": true
   },
   "outputs": [],
   "source": []
  },
  {
   "cell_type": "markdown",
   "metadata": {
    "collapsed": true
   },
   "source": [
    "### How many roles through 1980 were minor enough that they did not warrant a numeric \"n\" rank?"
   ]
  },
  {
   "cell_type": "code",
   "execution_count": null,
   "metadata": {
    "collapsed": true
   },
   "outputs": [],
   "source": []
  },
  {
   "cell_type": "code",
   "execution_count": null,
   "metadata": {
    "collapsed": true
   },
   "outputs": [],
   "source": []
  }
 ],
 "metadata": {
  "kernelspec": {
   "display_name": "Python 2",
   "language": "python",
   "name": "python2"
  },
  "language_info": {
   "codemirror_mode": {
    "name": "ipython",
    "version": 2
   },
   "file_extension": ".py",
   "mimetype": "text/x-python",
   "name": "python",
   "nbconvert_exporter": "python",
   "pygments_lexer": "ipython2",
   "version": "2.7.10"
  }
 },
 "nbformat": 4,
 "nbformat_minor": 0
}
